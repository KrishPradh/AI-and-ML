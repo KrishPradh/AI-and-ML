{
  "nbformat": 4,
  "nbformat_minor": 0,
  "metadata": {
    "colab": {
      "provenance": []
    },
    "kernelspec": {
      "name": "python3",
      "display_name": "Python 3"
    },
    "language_info": {
      "name": "python"
    }
  },
  "cells": [
    {
      "cell_type": "markdown",
      "source": [
        "# Exercise on Functions:"
      ],
      "metadata": {
        "id": "s1VYp5otzy4i"
      }
    },
    {
      "cell_type": "markdown",
      "source": [
        "# Task-1 Unit Conversion"
      ],
      "metadata": {
        "id": "8-CTWL4rzpP0"
      }
    },
    {
      "cell_type": "code",
      "execution_count": 5,
      "metadata": {
        "colab": {
          "base_uri": "https://localhost:8080/"
        },
        "id": "_Wc3B-ppzalq",
        "outputId": "cc81c737-0a6d-4e18-cb25-163890320df9"
      },
      "outputs": [
        {
          "output_type": "stream",
          "name": "stdout",
          "text": [
            "Unit Converter\n",
            "1. Length (meters <-> feet)\n",
            "2. Weight (kilograms <-> pounds)\n",
            "3. Volume (liters <-> gallons)\n",
            "Select a conversion type (1, 2, or 3): 1\n",
            "Enter value: 50\n",
            "Choose conversion (m_to_ft / ft_to_m): m_to_ft\n",
            "Converted value: 164.042\n"
          ]
        }
      ],
      "source": [
        "def length_convert(val, unit):\n",
        "    if unit == 'm_to_ft':\n",
        "        return val * 3.28084\n",
        "    elif unit == 'ft_to_m':\n",
        "        return val / 3.28084\n",
        "    else:\n",
        "        raise ValueError(\"Invalid length unit.\")\n",
        "\n",
        "def weight_convert(val, unit):\n",
        "    if unit == 'kg_to_lbs':\n",
        "        return val * 2.20462\n",
        "    elif unit == 'lbs_to_kg':\n",
        "        return val / 2.20462\n",
        "    else:\n",
        "        raise ValueError(\"Invalid weight unit.\")\n",
        "\n",
        "def volume_convert(val, unit):\n",
        "    if unit == 'L_to_gal':\n",
        "        return val * 0.264172\n",
        "    elif unit == 'gal_to_L':\n",
        "        return val / 0.264172\n",
        "    else:\n",
        "        raise ValueError(\"Invalid volume unit.\")\n",
        "\n",
        "def main():\n",
        "    print(\"Unit Converter\")\n",
        "    print(\"1. Length (meters <-> feet)\")\n",
        "    print(\"2. Weight (kilograms <-> pounds)\")\n",
        "    print(\"3. Volume (liters <-> gallons)\")\n",
        "\n",
        "    try:\n",
        "        option = int(input(\"Select a conversion type (1, 2, or 3): \"))\n",
        "        val = float(input(\"Enter value: \"))\n",
        "\n",
        "        if option == 1:\n",
        "            unit = input(\"Choose conversion (m_to_ft / ft_to_m): \")\n",
        "            result = length_convert(val, unit)\n",
        "        elif option == 2:\n",
        "            unit = input(\"Choose conversion (kg_to_lbs / lbs_to_kg): \")\n",
        "            result = weight_convert(val, unit)\n",
        "        elif option == 3:\n",
        "            unit = input(\"Choose conversion (L_to_gal / gal_to_L): \")\n",
        "            result = volume_convert(val, unit)\n",
        "        else:\n",
        "            print(\"Invalid option.\")\n",
        "            return\n",
        "\n",
        "        print(f\"Converted value: {result}\")\n",
        "    except ValueError as err:\n",
        "        print(f\"Error: {err}\")\n",
        "\n",
        "main()\n"
      ]
    },
    {
      "cell_type": "markdown",
      "source": [
        "# Task-2 Math Operation on List of Numbers"
      ],
      "metadata": {
        "id": "rVa5pztD0Y2e"
      }
    },
    {
      "cell_type": "code",
      "source": [
        "def get_sum(nums):\n",
        "    \"\"\"\n",
        "    Returns the sum of a list of numbers.\n",
        "    \"\"\"\n",
        "    return sum(nums)\n",
        "\n",
        "def get_avg(nums):\n",
        "    \"\"\"\n",
        "    Returns the average of a list of numbers.\n",
        "    \"\"\"\n",
        "    return sum(nums) / len(nums)\n",
        "\n",
        "def get_max(nums):\n",
        "    \"\"\"\n",
        "    Returns the maximum value from a list of numbers.\n",
        "    \"\"\"\n",
        "    return max(nums)\n",
        "\n",
        "def get_min(nums):\n",
        "    \"\"\"\n",
        "    Returns the minimum value from a list of numbers.\n",
        "    \"\"\"\n",
        "    return min(nums)\n",
        "\n",
        "def main():\n",
        "    print(\"Math Operations Program\")\n",
        "    print(\"1. Sum\")\n",
        "    print(\"2. Average\")\n",
        "    print(\"3. Maximum\")\n",
        "    print(\"4. Minimum\")\n",
        "\n",
        "    try:\n",
        "        choice = int(input(\"Select an operation (1-4): \"))\n",
        "        nums = list(map(float, input(\"Enter numbers separated by spaces: \").split()))\n",
        "\n",
        "        if choice == 1:\n",
        "            result = get_sum(nums)\n",
        "            print(f\"Sum: {result}\")\n",
        "        elif choice == 2:\n",
        "            result = get_avg(nums)\n",
        "            print(f\"Average: {result}\")\n",
        "        elif choice == 3:\n",
        "            result = get_max(nums)\n",
        "            print(f\"Maximum: {result}\")\n",
        "        elif choice == 4:\n",
        "            result = get_min(nums)\n",
        "            print(f\"Minimum: {result}\")\n",
        "        else:\n",
        "            print(\"Invalid selection.\")\n",
        "    except ValueError:\n",
        "        print(\"Error: Please enter valid numbers.\")\n",
        "    except ZeroDivisionError:\n",
        "        print(\"Error: Cannot compute average of an empty list.\")\n",
        "\n",
        "main()\n"
      ],
      "metadata": {
        "colab": {
          "base_uri": "https://localhost:8080/"
        },
        "id": "rB4V4IEo0FhL",
        "outputId": "5b743dd2-4b6c-4103-a7b8-9dfa71780f18"
      },
      "execution_count": 6,
      "outputs": [
        {
          "output_type": "stream",
          "name": "stdout",
          "text": [
            "Math Operations Program\n",
            "1. Sum\n",
            "2. Average\n",
            "3. Maximum\n",
            "4. Minimum\n",
            "Select an operation (1-4): 1\n",
            "Enter numbers separated by spaces: 50 50\n",
            "Sum: 100.0\n"
          ]
        }
      ]
    },
    {
      "cell_type": "markdown",
      "source": [
        "# Exercise on List Manipulation:"
      ],
      "metadata": {
        "id": "7uYcjGpB0_rE"
      }
    },
    {
      "cell_type": "code",
      "source": [
        "def get_every_other(items):\n",
        "    \"\"\"\n",
        "    Returns every other element from the given list, starting with the first.\n",
        "    \"\"\"\n",
        "    return items[::2]\n",
        "\n",
        "print(get_every_other([1, 2, 3, 4, 5, 6]))\n"
      ],
      "metadata": {
        "colab": {
          "base_uri": "https://localhost:8080/"
        },
        "id": "8ui-kMre0w3H",
        "outputId": "aeb52fb3-be81-463c-89ae-51196a65b007"
      },
      "execution_count": 3,
      "outputs": [
        {
          "output_type": "stream",
          "name": "stdout",
          "text": [
            "[1, 3, 5]\n"
          ]
        }
      ]
    },
    {
      "cell_type": "code",
      "source": [
        "def sublist(items, start_idx, end_idx):\n",
        "    \"\"\"\n",
        "    Returns a portion of the list from start_idx to end_idx (inclusive).\n",
        "    \"\"\"\n",
        "    return items[start_idx:end_idx+1]\n",
        "\n",
        "print(sublist([1, 2, 3, 4, 5, 6], 2, 4))\n"
      ],
      "metadata": {
        "colab": {
          "base_uri": "https://localhost:8080/"
        },
        "id": "Z2uRdVIQ2JDt",
        "outputId": "a2ce7975-0336-45c4-d3cf-ad53ba7a59e8"
      },
      "execution_count": 2,
      "outputs": [
        {
          "output_type": "stream",
          "name": "stdout",
          "text": [
            "[3, 4, 5]\n"
          ]
        }
      ]
    },
    {
      "cell_type": "code",
      "source": [
        "def reverse_items(items):\n",
        "    \"\"\"\n",
        "    Returns the reversed version of a list.\n",
        "\n",
        "    Parameters:\n",
        "    items (list): List to be reversed.\n",
        "\n",
        "    Returns:\n",
        "    list: Reversed list.\n",
        "    \"\"\"\n",
        "    return items[::-1]\n",
        "\n",
        "reverse_items([1, 2, 3, 4, 5])"
      ],
      "metadata": {
        "colab": {
          "base_uri": "https://localhost:8080/"
        },
        "id": "QiySrYeF2Ut7",
        "outputId": "ff1b26f4-136d-4dc1-e979-11e14a8ac6b6"
      },
      "execution_count": 1,
      "outputs": [
        {
          "output_type": "execute_result",
          "data": {
            "text/plain": [
              "[5, 4, 3, 2, 1]"
            ]
          },
          "metadata": {},
          "execution_count": 1
        }
      ]
    },
    {
      "cell_type": "code",
      "source": [
        "def remove_first_last(lst):\n",
        "    \"\"\"\n",
        "    Removes the first and last elements of a list and returns the resulting sublist.\n",
        "\n",
        "    Parameters:\n",
        "    lst (list): The input list.\n",
        "\n",
        "    Returns:\n",
        "    list: The sublist without the first and last elements.\n",
        "    \"\"\"\n",
        "    return lst[1:-1]\n",
        "\n",
        "remove_first_last([1, 2, 3, 4, 5])"
      ],
      "metadata": {
        "colab": {
          "base_uri": "https://localhost:8080/"
        },
        "id": "9zxHVjqa2YDp",
        "outputId": "3e532502-4dcf-4f2a-fc0f-a8f0319d7d1a"
      },
      "execution_count": 4,
      "outputs": [
        {
          "output_type": "execute_result",
          "data": {
            "text/plain": [
              "[2, 3, 4]"
            ]
          },
          "metadata": {},
          "execution_count": 4
        }
      ]
    },
    {
      "cell_type": "code",
      "source": [
        "def get_first_n(lst, n):\n",
        "    \"\"\"\n",
        "    Extracts the first n elements from a list.\n",
        "\n",
        "    Parameters:\n",
        "    lst (list): The input list.\n",
        "    n (int): The number of elements to extract.\n",
        "\n",
        "    Returns:\n",
        "    list: The first n elements of the list.\n",
        "    \"\"\"\n",
        "    return lst[:n]\n",
        "\n",
        "get_first_n([1, 2, 3, 4, 5],3)"
      ],
      "metadata": {
        "colab": {
          "base_uri": "https://localhost:8080/"
        },
        "id": "tddLLYqz2cac",
        "outputId": "0de2e9ba-c71c-4e50-9ed7-682727b059a7"
      },
      "execution_count": 5,
      "outputs": [
        {
          "output_type": "execute_result",
          "data": {
            "text/plain": [
              "[1, 2, 3]"
            ]
          },
          "metadata": {},
          "execution_count": 5
        }
      ]
    },
    {
      "cell_type": "code",
      "source": [
        "def get_last_n(lst, n):\n",
        "    \"\"\"\n",
        "    Extracts the last n elements of a list using slicing.\n",
        "\n",
        "    Parameters:\n",
        "    lst (list): The input list.\n",
        "    n (int): The number of elements to extract.\n",
        "\n",
        "    Returns:\n",
        "    list: The last n elements of the list.\n",
        "    \"\"\"\n",
        "    return lst[-n:]\n",
        "\n",
        "get_last_n([1, 2, 3, 4, 5],2)"
      ],
      "metadata": {
        "colab": {
          "base_uri": "https://localhost:8080/"
        },
        "id": "9N2hNWsT2ft1",
        "outputId": "21462e3b-e48f-47a7-bf24-2d13cc4a9bc5"
      },
      "execution_count": 6,
      "outputs": [
        {
          "output_type": "execute_result",
          "data": {
            "text/plain": [
              "[4, 5]"
            ]
          },
          "metadata": {},
          "execution_count": 6
        }
      ]
    },
    {
      "cell_type": "code",
      "source": [
        "def reverse_skip(lst):\n",
        "    \"\"\"\n",
        "    Extracts a list of elements in reverse order starting from the second-to-last element and skipping one element in between.\n",
        "\n",
        "    Parameters:\n",
        "    lst (list): The input list.\n",
        "\n",
        "    Returns:\n",
        "    list: A new list containing every second element starting from the second-to-last, moving backward.\n",
        "    \"\"\"\n",
        "    return lst[-2::-2]\n",
        "\n",
        "reverse_skip([1, 2, 3, 4, 5, 6])"
      ],
      "metadata": {
        "colab": {
          "base_uri": "https://localhost:8080/"
        },
        "id": "GmeQtSq12jSe",
        "outputId": "78dc1a64-4207-453e-eb94-5fb0b3e51dcf"
      },
      "execution_count": 7,
      "outputs": [
        {
          "output_type": "execute_result",
          "data": {
            "text/plain": [
              "[5, 3, 1]"
            ]
          },
          "metadata": {},
          "execution_count": 7
        }
      ]
    },
    {
      "cell_type": "markdown",
      "source": [
        "# Exercise on Nested List"
      ],
      "metadata": {
        "id": "GROi91612nHW"
      }
    },
    {
      "cell_type": "code",
      "source": [
        "def flatten_list(nested_list):\n",
        "    \"\"\"\n",
        "    Converts a nested list into a single flat list.\n",
        "\n",
        "    Parameters:\n",
        "    nested_list (list): A list containing sublists.\n",
        "\n",
        "    Returns:\n",
        "    list: A single flattened list.\n",
        "    \"\"\"\n",
        "    result = []\n",
        "    for element in nested_list:\n",
        "        if isinstance(element, list):\n",
        "            result.extend(flatten_list(element))\n",
        "        else:\n",
        "            result.append(element)\n",
        "    return result\n",
        "\n",
        "flatten_list([[1, 2], [3, [4, 5]], 6])\n"
      ],
      "metadata": {
        "colab": {
          "base_uri": "https://localhost:8080/"
        },
        "id": "eqvXZ28E3t1H",
        "outputId": "4cc8c601-24e4-4552-9da2-76f9577c545d"
      },
      "execution_count": 9,
      "outputs": [
        {
          "output_type": "execute_result",
          "data": {
            "text/plain": [
              "[1, 2, 3, 4, 5, 6]"
            ]
          },
          "metadata": {},
          "execution_count": 9
        }
      ]
    },
    {
      "cell_type": "code",
      "source": [
        "def get_nested_item(nested_list, index_list):\n",
        "    \"\"\"\n",
        "    Retrieves an element from a nested list using a list of indices.\n",
        "\n",
        "    Parameters:\n",
        "    nested_list (list): The multi-level list.\n",
        "    index_list (list): List of indices to navigate through the nested list.\n",
        "\n",
        "    Returns:\n",
        "    any: The target element.\n",
        "    \"\"\"\n",
        "    for idx in index_list:\n",
        "        nested_list = nested_list[idx]\n",
        "    return nested_list\n",
        "\n",
        "get_nested_item([[1, 2, 3], [4, 5, 6], [7, 8, 9]], [1, 2])\n"
      ],
      "metadata": {
        "colab": {
          "base_uri": "https://localhost:8080/"
        },
        "id": "oga0Z3Oy2v3D",
        "outputId": "ce5a0f87-5903-4f6b-9261-a78fdeee48f6"
      },
      "execution_count": 10,
      "outputs": [
        {
          "output_type": "execute_result",
          "data": {
            "text/plain": [
              "6"
            ]
          },
          "metadata": {},
          "execution_count": 10
        }
      ]
    },
    {
      "cell_type": "code",
      "source": [
        "def sum_nested(lst):\n",
        "    \"\"\"\n",
        "    Calculates the sum of all the numbers in a nested list.\n",
        "\n",
        "    Parameters:\n",
        "    lst (list): The nested list.\n",
        "\n",
        "    Returns:\n",
        "    float: The sum of all elements.\n",
        "    \"\"\"\n",
        "    return sum(flatten(lst))\n",
        "\n",
        "sum_nested([[1, 2], [3, [4, 5]], 6])"
      ],
      "metadata": {
        "colab": {
          "base_uri": "https://localhost:8080/"
        },
        "id": "Jxb-978w2wap",
        "outputId": "7861dea3-525f-44e0-c7cc-084cd3b4ed01"
      },
      "execution_count": 11,
      "outputs": [
        {
          "output_type": "execute_result",
          "data": {
            "text/plain": [
              "21"
            ]
          },
          "metadata": {},
          "execution_count": 11
        }
      ]
    },
    {
      "cell_type": "code",
      "source": [
        "def remove_element(lst, elem):\n",
        "    \"\"\"\n",
        "    Removes all occurrences of a specific element from a nested list.\n",
        "\n",
        "    Parameters:\n",
        "    lst (list): The nested list.\n",
        "    elem (any): The element to remove.\n",
        "\n",
        "    Returns:\n",
        "    list: The modified list.\n",
        "    \"\"\"\n",
        "    return [remove_element(item, elem) if isinstance(item, list) else item for item in lst if item != elem]\n",
        "\n",
        "remove_element([[1, 2], [3, 2], [4, 5]],2)"
      ],
      "metadata": {
        "colab": {
          "base_uri": "https://localhost:8080/"
        },
        "id": "sGxcAov23iN5",
        "outputId": "6e25e6e6-6a38-4f2c-8cd9-b60f813d1345"
      },
      "execution_count": 12,
      "outputs": [
        {
          "output_type": "execute_result",
          "data": {
            "text/plain": [
              "[[1], [3], [4, 5]]"
            ]
          },
          "metadata": {},
          "execution_count": 12
        }
      ]
    },
    {
      "cell_type": "code",
      "source": [
        "def get_max_value(nested_list):\n",
        "    \"\"\"\n",
        "    Returns the highest number from a nested list.\n",
        "\n",
        "    Parameters:\n",
        "    nested_list (list): A list containing sublists.\n",
        "\n",
        "    Returns:\n",
        "    float: The highest number found.\n",
        "    \"\"\"\n",
        "    return max(flatten_list(nested_list))\n",
        "\n",
        "get_max_value([[1, 2], [3, [4, 5]], 6])\n"
      ],
      "metadata": {
        "colab": {
          "base_uri": "https://localhost:8080/"
        },
        "id": "XQ-eA6Sa31yB",
        "outputId": "4e1d838e-8685-4284-8217-8918df327e40"
      },
      "execution_count": 15,
      "outputs": [
        {
          "output_type": "execute_result",
          "data": {
            "text/plain": [
              "6"
            ]
          },
          "metadata": {},
          "execution_count": 15
        }
      ]
    },
    {
      "cell_type": "code",
      "source": [
        "def count_occurrences(lst, elem):\n",
        "    \"\"\"\n",
        "    Counts how many times a specific element appears in a nested list.\n",
        "\n",
        "    Parameters:\n",
        "    lst (list): The nested list.\n",
        "    elem (any): The element to count.\n",
        "\n",
        "    Returns:\n",
        "    int: The number of occurrences.\n",
        "    \"\"\"\n",
        "    return flatten(lst).count(elem)\n",
        "count_occurrences([[1, 2], [2, 3], [2, 4]],2)"
      ],
      "metadata": {
        "colab": {
          "base_uri": "https://localhost:8080/"
        },
        "id": "1iHgRdT033ic",
        "outputId": "15c5b58e-808a-4b2e-8297-1463b7ae276d"
      },
      "execution_count": 13,
      "outputs": [
        {
          "output_type": "execute_result",
          "data": {
            "text/plain": [
              "3"
            ]
          },
          "metadata": {},
          "execution_count": 13
        }
      ]
    },
    {
      "cell_type": "code",
      "source": [
        "def deep_flatten(lst):\n",
        "    \"\"\"\n",
        "    Flattens a deeply nested list into a single list.\n",
        "\n",
        "    Parameters:\n",
        "    lst (list): The deeply nested list.\n",
        "\n",
        "    Returns:\n",
        "    list: A single flattened list.\n",
        "    \"\"\"\n",
        "    return flatten(lst)\n",
        "\n",
        "deep_flatten([[[1, 2], [3, 4]], [[5, 6], [7, 8]]])"
      ],
      "metadata": {
        "colab": {
          "base_uri": "https://localhost:8080/"
        },
        "id": "KGM7zF3N38Wm",
        "outputId": "ce5e00c0-2e84-4cdd-c78c-a6b626ff5f8c"
      },
      "execution_count": 16,
      "outputs": [
        {
          "output_type": "execute_result",
          "data": {
            "text/plain": [
              "[1, 2, 3, 4, 5, 6, 7, 8]"
            ]
          },
          "metadata": {},
          "execution_count": 16
        }
      ]
    },
    {
      "cell_type": "code",
      "source": [
        "def average_nested(lst):\n",
        "    \"\"\"\n",
        "    Calculates the average of all elements in a nested list.\n",
        "\n",
        "    Parameters:\n",
        "    lst (list): The nested list.\n",
        "\n",
        "    Returns:\n",
        "    float: The average of all elements.\n",
        "    \"\"\"\n",
        "    flat_list = flatten(lst)\n",
        "    return sum(flat_list) / len(flat_list)\n",
        "average_nested([[1, 2], [3, 4], [5, 6]])"
      ],
      "metadata": {
        "colab": {
          "base_uri": "https://localhost:8080/"
        },
        "id": "r0k0HcDA3_Fd",
        "outputId": "88e4ebe6-a28f-4c18-e40f-fe80d94a433d"
      },
      "execution_count": 17,
      "outputs": [
        {
          "output_type": "execute_result",
          "data": {
            "text/plain": [
              "3.5"
            ]
          },
          "metadata": {},
          "execution_count": 17
        }
      ]
    },
    {
      "cell_type": "markdown",
      "source": [
        "# Basic Vector and Matrix Operation with Numpy."
      ],
      "metadata": {
        "id": "HOfXMOKX45Tr"
      }
    },
    {
      "cell_type": "markdown",
      "source": [
        "# Problem - 1: Array Creation:"
      ],
      "metadata": {
        "id": "CggzDmEJ46OB"
      }
    },
    {
      "cell_type": "code",
      "source": [
        "import numpy as np\n",
        "\n",
        "# 1. Create an empty 2x2 array\n",
        "empty_arr = np.empty((2, 2))\n",
        "print(\"Empty 2x2 Array:\\n\", empty_arr)\n",
        "print(\"---------------\")\n",
        "\n",
        "# 2. Create a 4x2 array filled with ones\n",
        "ones_arr = np.ones((4, 2))\n",
        "print(\"4x2 Array of Ones:\\n\", ones_arr)\n",
        "print(\"---------------\")\n",
        "\n",
        "# 3. Create a 3x3 array filled with 5\n",
        "filled_arr = np.full((3, 3), 5)\n",
        "print(\"3x3 Array Filled with 5:\\n\", filled_arr)\n",
        "print(\"---------------\")\n",
        "\n",
        "# 4. Create a zero array with the same shape as another array\n",
        "sample_arr = np.array([[1, 2], [3, 4]])\n",
        "zeros_arr = np.zeros_like(sample_arr)\n",
        "print(\"Zero Array with Same Shape as Sample Array:\\n\", zeros_arr)\n",
        "print(\"---------------\")\n",
        "\n",
        "# 5. Create an array of ones with the same shape as another array\n",
        "ones_like_arr = np.ones_like(sample_arr)\n",
        "print(\"Ones Array with Same Shape as Sample Array:\\n\", ones_like_arr)\n",
        "print(\"---------------\")\n",
        "\n",
        "# 6. Convert a list to a NumPy array\n",
        "num_list = [1, 2, 3, 4]\n",
        "converted_arr = np.array(num_list)\n",
        "print(\"NumPy Array from List:\\n\", converted_arr)\n"
      ],
      "metadata": {
        "colab": {
          "base_uri": "https://localhost:8080/"
        },
        "id": "6iLs6Tn549aq",
        "outputId": "5394642a-a8b3-4f77-e889-bcf1ec00bef0"
      },
      "execution_count": 19,
      "outputs": [
        {
          "output_type": "stream",
          "name": "stdout",
          "text": [
            "Empty 2x2 Array:\n",
            " [[2.71156043e-316 0.00000000e+000]\n",
            " [6.55002648e-310 5.33196831e-317]]\n",
            "---------------\n",
            "4x2 Array of Ones:\n",
            " [[1. 1.]\n",
            " [1. 1.]\n",
            " [1. 1.]\n",
            " [1. 1.]]\n",
            "---------------\n",
            "3x3 Array Filled with 5:\n",
            " [[5 5 5]\n",
            " [5 5 5]\n",
            " [5 5 5]]\n",
            "---------------\n",
            "Zero Array with Same Shape as Sample Array:\n",
            " [[0 0]\n",
            " [0 0]]\n",
            "---------------\n",
            "Ones Array with Same Shape as Sample Array:\n",
            " [[1 1]\n",
            " [1 1]]\n",
            "---------------\n",
            "NumPy Array from List:\n",
            " [1 2 3 4]\n"
          ]
        }
      ]
    },
    {
      "cell_type": "markdown",
      "source": [
        "# Problem - 2: Array Manipulation: Numerical Ranges and Array indexing:"
      ],
      "metadata": {
        "id": "Uq2c7Pld5PNs"
      }
    },
    {
      "cell_type": "code",
      "source": [
        "import numpy as np\n",
        "\n",
        "# 1. Create an array with values from 10 to 49\n",
        "num_range = np.arange(10, 50)\n",
        "print(\"Array from 10 to 49:\\n\", num_range)\n",
        "print(\"---------------\")\n",
        "\n",
        "# 2. Create a 3x3 matrix with values from 0 to 8\n",
        "matrix_3x3 = np.arange(9).reshape(3, 3)\n",
        "print(\"3x3 Matrix (0 to 8):\\n\", matrix_3x3)\n",
        "print(\"---------------\")\n",
        "\n",
        "# 3. Create a 3x3 identity matrix\n",
        "identity_mat = np.eye(3)\n",
        "print(\"3x3 Identity Matrix:\\n\", identity_mat)\n",
        "print(\"---------------\")\n",
        "\n",
        "# 4. Create a random array of size 30 and find the mean\n",
        "rand_arr = np.random.random(30)\n",
        "mean_val = rand_arr.mean()\n",
        "print(\"Random Array (Size 30):\\n\", rand_arr)\n",
        "print(\"Mean Value:\", mean_val)\n",
        "print(\"---------------\")\n",
        "\n",
        "# 5. Create a 10x10 array with random values and find the min and max\n",
        "rand_10x10 = np.random.random((10, 10))\n",
        "min_val = rand_10x10.min()\n",
        "max_val = rand_10x10.max()\n",
        "print(\"10x10 Random Array:\\n\", rand_10x10)\n",
        "print(\"Min Value:\", min_val)\n",
        "print(\"Max Value:\", max_val)\n",
        "print(\"---------------\")\n",
        "\n",
        "# 6. Create a zero array of size 10 and replace the 5th element with 1\n",
        "zero_arr = np.zeros(10)\n",
        "zero_arr[4] = 1  # 5th element (index 4)\n",
        "print(\"Zero Array (5th Element = 1):\\n\", zero_arr)\n",
        "print(\"---------------\")\n",
        "\n",
        "# 7. Reverse an array\n",
        "arr = np.array([1, 2, 0, 0, 4, 0])\n",
        "rev_arr = arr[::-1]\n",
        "print(\"Reversed Array:\\n\", rev_arr)\n",
        "print(\"---------------\")\n",
        "\n",
        "# 8. Create a 2D array with 1 on the border and 0 inside\n",
        "border_arr = np.ones((5, 5))\n",
        "border_arr[1:-1, 1:-1] = 0\n",
        "print(\"2D Array (Border = 1, Inside = 0):\\n\", border_arr)\n",
        "print(\"---------------\")\n",
        "\n",
        "# 9. Create an 8x8 checkerboard pattern\n",
        "checkerboard = np.zeros((8, 8))\n",
        "checkerboard[1::2, ::2] = 1\n",
        "checkerboard[::2, 1::2] = 1\n",
        "print(\"8x8 Checkerboard Pattern:\\n\", checkerboard)\n"
      ],
      "metadata": {
        "colab": {
          "base_uri": "https://localhost:8080/"
        },
        "id": "7rzn4AIv5QTA",
        "outputId": "fc118149-fed2-4ba5-b2b5-b6f064fcbaaa"
      },
      "execution_count": 21,
      "outputs": [
        {
          "output_type": "stream",
          "name": "stdout",
          "text": [
            "Array from 10 to 49:\n",
            " [10 11 12 13 14 15 16 17 18 19 20 21 22 23 24 25 26 27 28 29 30 31 32 33\n",
            " 34 35 36 37 38 39 40 41 42 43 44 45 46 47 48 49]\n",
            "---------------\n",
            "3x3 Matrix (0 to 8):\n",
            " [[0 1 2]\n",
            " [3 4 5]\n",
            " [6 7 8]]\n",
            "---------------\n",
            "3x3 Identity Matrix:\n",
            " [[1. 0. 0.]\n",
            " [0. 1. 0.]\n",
            " [0. 0. 1.]]\n",
            "---------------\n",
            "Random Array (Size 30):\n",
            " [0.96587556 0.79823517 0.88028358 0.68793605 0.384036   0.8811841\n",
            " 0.61035728 0.09428964 0.65966951 0.01714293 0.90576574 0.18677769\n",
            " 0.37780689 0.9174688  0.57717545 0.34830872 0.76391862 0.7989148\n",
            " 0.83238086 0.50408093 0.15514422 0.10319583 0.40407564 0.50708098\n",
            " 0.991708   0.96470026 0.08325184 0.24238911 0.15820727 0.31617618]\n",
            "Mean Value: 0.5372512553645984\n",
            "---------------\n",
            "10x10 Random Array:\n",
            " [[0.29602756 0.54743214 0.79683553 0.43936043 0.67962302 0.34224367\n",
            "  0.98789104 0.81751703 0.7644241  0.61169405]\n",
            " [0.58327586 0.38884323 0.35511795 0.01940832 0.318648   0.80527756\n",
            "  0.10584361 0.13818676 0.27099199 0.45907637]\n",
            " [0.45971407 0.39349633 0.50316085 0.66528545 0.73983443 0.24193263\n",
            "  0.67773621 0.21889529 0.42065208 0.5697793 ]\n",
            " [0.35300793 0.23180077 0.37151036 0.85029667 0.6730695  0.92159853\n",
            "  0.35908241 0.82051275 0.11789349 0.00739283]\n",
            " [0.37652027 0.88827408 0.31359845 0.25108798 0.46360056 0.38629738\n",
            "  0.76383325 0.24008211 0.04446715 0.85894243]\n",
            " [0.37489801 0.13185124 0.24012922 0.18368205 0.56491864 0.18723745\n",
            "  0.4747072  0.01293236 0.78512554 0.67672751]\n",
            " [0.87940381 0.91646071 0.42812057 0.51053218 0.51301856 0.26135781\n",
            "  0.44463853 0.95725909 0.17474631 0.98110036]\n",
            " [0.3079057  0.88321538 0.95139147 0.73390103 0.63723062 0.42763413\n",
            "  0.2778467  0.37073903 0.65150031 0.93279027]\n",
            " [0.36713097 0.21314015 0.93750857 0.79410349 0.05945232 0.89649297\n",
            "  0.77672795 0.02675639 0.10541105 0.20905805]\n",
            " [0.09087901 0.94940326 0.13537458 0.91947043 0.96101073 0.62706399\n",
            "  0.87060311 0.33053    0.84241973 0.48356055]]\n",
            "Min Value: 0.007392834447240593\n",
            "Max Value: 0.9878910427664552\n",
            "---------------\n",
            "Zero Array (5th Element = 1):\n",
            " [0. 0. 0. 0. 1. 0. 0. 0. 0. 0.]\n",
            "---------------\n",
            "Reversed Array:\n",
            " [0 4 0 0 2 1]\n",
            "---------------\n",
            "2D Array (Border = 1, Inside = 0):\n",
            " [[1. 1. 1. 1. 1.]\n",
            " [1. 0. 0. 0. 1.]\n",
            " [1. 0. 0. 0. 1.]\n",
            " [1. 0. 0. 0. 1.]\n",
            " [1. 1. 1. 1. 1.]]\n",
            "---------------\n",
            "8x8 Checkerboard Pattern:\n",
            " [[0. 1. 0. 1. 0. 1. 0. 1.]\n",
            " [1. 0. 1. 0. 1. 0. 1. 0.]\n",
            " [0. 1. 0. 1. 0. 1. 0. 1.]\n",
            " [1. 0. 1. 0. 1. 0. 1. 0.]\n",
            " [0. 1. 0. 1. 0. 1. 0. 1.]\n",
            " [1. 0. 1. 0. 1. 0. 1. 0.]\n",
            " [0. 1. 0. 1. 0. 1. 0. 1.]\n",
            " [1. 0. 1. 0. 1. 0. 1. 0.]]\n"
          ]
        }
      ]
    },
    {
      "cell_type": "markdown",
      "source": [
        "# Problem - 3: Array Operations:"
      ],
      "metadata": {
        "id": "-9y8Z94E5f0R"
      }
    },
    {
      "cell_type": "code",
      "source": [
        "import numpy as np\n",
        "\n",
        "# Given arrays\n",
        "a = np.array([[1, 2], [3, 5]])\n",
        "b = np.array([[5, 6], [7, 8]])\n",
        "vec1 = np.array([9, 10])\n",
        "vec2 = np.array([11, 12])\n",
        "\n",
        "# 1. Add the two arrays\n",
        "sum_result = a + b\n",
        "print(\"Sum of a and b:\\n\", sum_result)\n",
        "print(\"---------------\")\n",
        "\n",
        "# 2. Subtract the two arrays\n",
        "diff_result = a - b\n",
        "print(\"Difference of a and b:\\n\", diff_result)\n",
        "print(\"---------------\")\n",
        "\n",
        "# 3. Multiply the array by 2\n",
        "mult_result = a * 2\n",
        "print(\"a multiplied by 2:\\n\", mult_result)\n",
        "print(\"---------------\")\n",
        "\n",
        "# 4. Square each element\n",
        "squared_result = np.square(a)\n",
        "print(\"Square of each element in a:\\n\", squared_result)\n",
        "print(\"---------------\")\n",
        "\n",
        "# 5. Compute dot products\n",
        "dot_vw = np.dot(vec1, vec2)\n",
        "dot_av = np.dot(a, vec1)\n",
        "dot_ab = np.dot(a, b)\n",
        "print(\"Dot product of vec1 and vec2:\", dot_vw)\n",
        "print(\"Dot product of a and vec1:\", dot_av)\n",
        "print(\"Dot product of a and b:\\n\", dot_ab)\n",
        "print(\"---------------\")\n",
        "\n",
        "# 6. Concatenate a and b along rows, vec1 and vec2 along columns\n",
        "concat_rows = np.concatenate((a, b), axis=0)\n",
        "concat_cols = np.vstack((vec1, vec2))\n",
        "print(\"Concatenated a and b along rows:\\n\", concat_rows)\n",
        "print(\"Concatenated vec1 and vec2 along columns:\\n\", concat_cols)\n",
        "print(\"---------------\")\n",
        "\n",
        "# 7. Attempt to concatenate a and vec1 (expecting an error)\n",
        "try:\n",
        "    concat_av = np.concatenate((a, vec1))\n",
        "except ValueError as e:\n",
        "    print(\"Error:\", e)\n",
        "    print(\"Explanation: Shapes of a (2x2) and vec1 (2,) are not compatible for concatenation.\")\n"
      ],
      "metadata": {
        "colab": {
          "base_uri": "https://localhost:8080/"
        },
        "id": "7Kk1Pa0X5ghe",
        "outputId": "c0df2eb1-6ce4-4015-c579-f821be776fc9"
      },
      "execution_count": 22,
      "outputs": [
        {
          "output_type": "stream",
          "name": "stdout",
          "text": [
            "Sum of a and b:\n",
            " [[ 6  8]\n",
            " [10 13]]\n",
            "---------------\n",
            "Difference of a and b:\n",
            " [[-4 -4]\n",
            " [-4 -3]]\n",
            "---------------\n",
            "a multiplied by 2:\n",
            " [[ 2  4]\n",
            " [ 6 10]]\n",
            "---------------\n",
            "Square of each element in a:\n",
            " [[ 1  4]\n",
            " [ 9 25]]\n",
            "---------------\n",
            "Dot product of vec1 and vec2: 219\n",
            "Dot product of a and vec1: [29 77]\n",
            "Dot product of a and b:\n",
            " [[19 22]\n",
            " [50 58]]\n",
            "---------------\n",
            "Concatenated a and b along rows:\n",
            " [[1 2]\n",
            " [3 5]\n",
            " [5 6]\n",
            " [7 8]]\n",
            "Concatenated vec1 and vec2 along columns:\n",
            " [[ 9 10]\n",
            " [11 12]]\n",
            "---------------\n",
            "Error: all the input arrays must have same number of dimensions, but the array at index 0 has 2 dimension(s) and the array at index 1 has 1 dimension(s)\n",
            "Explanation: Shapes of a (2x2) and vec1 (2,) are not compatible for concatenation.\n"
          ]
        }
      ]
    },
    {
      "cell_type": "markdown",
      "source": [
        "# Problem - 4: Matrix Operations:"
      ],
      "metadata": {
        "id": "a7WGIiQE5td6"
      }
    },
    {
      "cell_type": "code",
      "source": [
        "import numpy as np\n",
        "\n",
        "# Given matrices\n",
        "A = np.array([[3, 4], [7, 8]])\n",
        "B = np.array([[5, 3], [2, 1]])\n",
        "\n",
        "# 1. Verify A * A^-1 = I\n",
        "A_inv = np.linalg.inv(A)\n",
        "identity_matrix = np.dot(A, A_inv)\n",
        "print(\"A * A^-1:\\n\", identity_matrix)\n",
        "print(\"---------------\")\n",
        "\n",
        "# 2. Verify AB ≠ BA\n",
        "AB = np.dot(A, B)\n",
        "BA = np.dot(B, A)\n",
        "print(\"AB:\\n\", AB)\n",
        "print(\"BA:\\n\", BA)\n",
        "print(\"Is AB ≠ BA?\", not np.array_equal(AB, BA))\n",
        "print(\"---------------\")\n",
        "\n",
        "# 3. Verify (AB)^T = B^T * A^T\n",
        "AB_T = AB.T\n",
        "BT_AT = np.dot(B.T, A.T)\n",
        "print(\"(AB)^T:\\n\", AB_T)\n",
        "print(\"B^T * A^T:\\n\", BT_AT)\n",
        "print(\"Is (AB)^T = B^T * A^T?\", np.array_equal(AB_T, BT_AT))\n",
        "print(\"---------------\")\n",
        "\n",
        "# Solve the system of linear equations:\n",
        "# 2x - 3y + z = -1\n",
        "# x - y + 2z = -3\n",
        "# 3x + y - z = 9\n",
        "\n",
        "# Matrix form: AX = B\n",
        "coeff_matrix = np.array([[2, -3, 1], [1, -1, 2], [3, 1, -1]])\n",
        "constants = np.array([-1, -3, 9])\n",
        "\n",
        "# Solve using inverse method\n",
        "solution_inv = np.dot(np.linalg.inv(coeff_matrix), constants)\n",
        "print(\"Solution using Inverse Method:\", solution_inv)\n",
        "print(\"---------------\")\n",
        "\n",
        "# Solve using np.linalg.solve\n",
        "solution_direct = np.linalg.solve(coeff_matrix, constants)\n",
        "print(\"Solution using np.linalg.solve:\", solution_direct)\n"
      ],
      "metadata": {
        "colab": {
          "base_uri": "https://localhost:8080/"
        },
        "id": "T1smTCWZ5tPy",
        "outputId": "70cfd5e1-cde2-48d0-e844-a9950fa92c7c"
      },
      "execution_count": 23,
      "outputs": [
        {
          "output_type": "stream",
          "name": "stdout",
          "text": [
            "A * A^-1:\n",
            " [[1.00000000e+00 0.00000000e+00]\n",
            " [1.77635684e-15 1.00000000e+00]]\n",
            "---------------\n",
            "AB:\n",
            " [[23 13]\n",
            " [51 29]]\n",
            "BA:\n",
            " [[36 44]\n",
            " [13 16]]\n",
            "Is AB ≠ BA? True\n",
            "---------------\n",
            "(AB)^T:\n",
            " [[23 51]\n",
            " [13 29]]\n",
            "B^T * A^T:\n",
            " [[23 51]\n",
            " [13 29]]\n",
            "Is (AB)^T = B^T * A^T? True\n",
            "---------------\n",
            "Solution using Inverse Method: [ 2.  1. -2.]\n",
            "---------------\n",
            "Solution using np.linalg.solve: [ 2.  1. -2.]\n"
          ]
        }
      ]
    },
    {
      "cell_type": "markdown",
      "source": [
        "# Experiment: How Fast is Numpy?"
      ],
      "metadata": {
        "id": "3H_v52uH59RJ"
      }
    },
    {
      "cell_type": "code",
      "source": [
        "import time\n",
        "import numpy as np\n",
        "\n",
        "# Function to measure execution time\n",
        "def measure_time(func, *args):\n",
        "    start = time.time()\n",
        "    func(*args)\n",
        "    end = time.time()\n",
        "    return end - start\n",
        "\n",
        "# 1. Element-wise Addition\n",
        "def add_lists(lst1, lst2):\n",
        "    return [a + b for a, b in zip(lst1, lst2)]\n",
        "\n",
        "def add_arrays(arr1, arr2):\n",
        "    return arr1 + arr2\n",
        "\n",
        "# 2. Element-wise Multiplication\n",
        "def multiply_lists(lst1, lst2):\n",
        "    return [a * b for a, b in zip(lst1, lst2)]\n",
        "\n",
        "def multiply_arrays(arr1, arr2):\n",
        "    return arr1 * arr2\n",
        "\n",
        "# 3. Dot Product\n",
        "def dot_product_lists(lst1, lst2):\n",
        "    return sum(a * b for a, b in zip(lst1, lst2))\n",
        "\n",
        "def dot_product_arrays(arr1, arr2):\n",
        "    return np.dot(arr1, arr2)\n",
        "\n",
        "# 4. Matrix Multiplication\n",
        "def multiply_matrices_lists(mat1, mat2):\n",
        "    return [[sum(a * b for a, b in zip(row, col)) for col in zip(*mat2)] for row in mat1]\n",
        "\n",
        "def multiply_matrices_arrays(mat1, mat2):\n",
        "    return np.dot(mat1, mat2)\n",
        "\n",
        "# Initialize data\n",
        "size = 1000000\n",
        "lst1 = list(range(size))\n",
        "lst2 = list(range(size, 2 * size))\n",
        "arr1 = np.arange(size)\n",
        "arr2 = np.arange(size, 2 * size)\n",
        "\n",
        "matrix_size = 1000\n",
        "mat1 = [[i + j for j in range(matrix_size)] for i in range(matrix_size)]\n",
        "mat2 = [[i - j for j in range(matrix_size)] for i in range(matrix_size)]\n",
        "npmat1 = np.array(mat1)\n",
        "npmat2 = np.array(mat2)\n",
        "\n",
        "# Measure execution times\n",
        "print(\"1. Addition:\")\n",
        "print(f\"Python Lists: {measure_time(add_lists, lst1, lst2):.6f} sec\")\n",
        "print(f\"NumPy Arrays: {measure_time(add_arrays, arr1, arr2):.6f} sec\")\n",
        "\n",
        "print(\"\\n2. Multiplication:\")\n",
        "print(f\"Python Lists: {measure_time(multiply_lists, lst1, lst2):.6f} sec\")\n",
        "print(f\"NumPy Arrays: {measure_time(multiply_arrays, arr1, arr2):.6f} sec\")\n",
        "\n",
        "print(\"\\n3. Dot Product:\")\n",
        "print(f\"Python Lists: {measure_time(dot_product_lists, lst1, lst2):.6f} sec\")\n",
        "print(f\"NumPy Arrays: {measure_time(dot_product_arrays, arr1, arr2):.6f} sec\")\n",
        "\n",
        "print(\"\\n4. Matrix Multiplication:\")\n",
        "print(f\"Python Lists: {measure_time(multiply_matrices_lists, mat1, mat2):.6f} sec\")\n",
        "print(f\"NumPy Arrays: {measure_time(multiply_matrices_arrays, npmat1, npmat2):.6f} sec\")\n"
      ],
      "metadata": {
        "colab": {
          "base_uri": "https://localhost:8080/"
        },
        "id": "vQXBJN236Jm5",
        "outputId": "4f0a41e0-c2b0-4b45-e5d3-102e57a857a8"
      },
      "execution_count": 27,
      "outputs": [
        {
          "output_type": "stream",
          "name": "stdout",
          "text": [
            "1. Addition:\n",
            "Python Lists: 0.073123 sec\n",
            "NumPy Arrays: 0.002028 sec\n",
            "\n",
            "2. Multiplication:\n",
            "Python Lists: 0.072892 sec\n",
            "NumPy Arrays: 0.002132 sec\n",
            "\n",
            "3. Dot Product:\n",
            "Python Lists: 0.082015 sec\n",
            "NumPy Arrays: 0.001804 sec\n",
            "\n",
            "4. Matrix Multiplication:\n",
            "Python Lists: 146.293597 sec\n",
            "NumPy Arrays: 1.257701 sec\n"
          ]
        }
      ]
    }
  ]
}